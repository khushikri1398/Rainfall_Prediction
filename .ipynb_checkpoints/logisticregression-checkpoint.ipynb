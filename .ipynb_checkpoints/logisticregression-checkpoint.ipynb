{
 "cells": [
  {
   "cell_type": "code",
   "execution_count": 1,
   "id": "d0195c48-ec02-4f76-b205-3c619382daa0",
   "metadata": {},
   "outputs": [
    {
     "name": "stdout",
     "output_type": "stream",
     "text": [
      "Model loaded from file.\n"
     ]
    },
    {
     "data": {
      "image/png": "[encoded data removed]",
      "text/plain": [
       "<Figure size 640x480 with 2 Axes>"
      ]
     },
     "metadata": {},
     "output_type": "display_data"
    },
    {
     "name": "stdout",
     "output_type": "stream",
     "text": [
      "\n",
      "Enter weather parameters for prediction:\n"
     ]
    },
    {
     "name": "stdin",
     "output_type": "stream",
     "text": [
      "Atmospheric pressure (hPa):  1023\n",
      "Maximum temperature (°C):  28\n",
      "Current temperature (°C):  20\n",
      "Minimum temperature (°C):  19\n",
      "Dew point temperature (°C):  17\n",
      "Humidity (%):  80\n",
      "Cloud cover (%):  80\n",
      "Sunshine hours:  1\n",
      "Wind direction (degrees):  70\n",
      "Wind speed (km/h):  18\n"
     ]
    },
    {
     "name": "stdout",
     "output_type": "stream",
     "text": [
      "\n",
      "Rainfall Prediction: Yes\n",
      "Confidence: 62.8%\n",
      "\n",
      "Model Performance:\n",
      "              precision    recall  f1-score   support\n",
      "\n",
      "           0       0.64      0.78      0.71        23\n",
      "           1       0.89      0.80      0.84        50\n",
      "\n",
      "    accuracy                           0.79        73\n",
      "   macro avg       0.77      0.79      0.77        73\n",
      "weighted avg       0.81      0.79      0.80        73\n",
      "\n"
     ]
    }
   ],
   "source": [
    "import pandas as pd\n",
    "import matplotlib.pyplot as plt  \n",
    "from sklearn.linear_model import LogisticRegression\n",
    "from sklearn.model_selection import train_test_split\n",
    "from sklearn.preprocessing import StandardScaler\n",
    "from sklearn.metrics import classification_report, ConfusionMatrixDisplay\n",
    "import joblib\n",
    "import os\n",
    "\n",
    "def get_float_input(prompt):\n",
    "    \n",
    "    while True:\n",
    "        try:\n",
    "            return float(input(prompt))\n",
    "        except ValueError:\n",
    "            print(\"Invalid input. Please enter a number.\")\n",
    "\n",
    "def get_weather_input():\n",
    "    \n",
    "    print(\"\\nEnter weather parameters for prediction:\")\n",
    "    return {\n",
    "        'pressure': get_float_input(\"Atmospheric pressure (hPa): \"),\n",
    "        'maxtemp': get_float_input(\"Maximum temperature (°C): \"),\n",
    "        'temparature': get_float_input(\"Current temperature (°C): \"),\n",
    "        'mintemp': get_float_input(\"Minimum temperature (°C): \"),\n",
    "        'dewpoint': get_float_input(\"Dew point temperature (°C): \"),\n",
    "        'humidity': get_float_input(\"Humidity (%): \"),\n",
    "        'cloud': get_float_input(\"Cloud cover (%): \"),\n",
    "        'sunshine': get_float_input(\"Sunshine hours: \"),\n",
    "        'winddirection': get_float_input(\"Wind direction (degrees): \"),\n",
    "        'windspeed': get_float_input(\"Wind speed (km/h): \")\n",
    "    }\n",
    "\n",
    "df = pd.read_csv('Rainfall.csv')\n",
    "df.columns = df.columns.str.strip()\n",
    "\n",
    "\n",
    "df['rainfall_label'] = df['rainfall'].map({'yes': 1, 'no': 0})\n",
    "df = df.dropna()\n",
    "\n",
    "\n",
    "feature_cols = ['pressure', 'maxtemp', 'temparature', 'mintemp', 'dewpoint',\n",
    "                'humidity', 'cloud', 'sunshine', 'winddirection', 'windspeed']\n",
    "X = df[feature_cols].fillna(df[feature_cols].mean(numeric_only=True))\n",
    "y = df['rainfall_label']\n",
    "\n",
    "\n",
    "scaler = StandardScaler()\n",
    "X_scaled = scaler.fit_transform(X)\n",
    "\n",
    "\n",
    "X_train, X_test, y_train, y_test = train_test_split(\n",
    "    X_scaled, y, test_size=0.2, random_state=42, stratify=y\n",
    ")\n",
    "\n",
    "\n",
    "model_path = 'logistic_model.pkl'\n",
    "if os.path.exists(model_path):\n",
    "    model = joblib.load(model_path)\n",
    "    print(\"Model loaded from file.\")\n",
    "else:\n",
    "    model = LogisticRegression(max_iter=1000, C=1.0, solver='lbfgs')\n",
    "    model.fit(X_train, y_train)\n",
    "    joblib.dump(model, model_path)\n",
    "    print(\"Model trained and saved.\")\n",
    "\n",
    "\n",
    "ConfusionMatrixDisplay.from_estimator(model, X_test, y_test)\n",
    "plt.show()\n",
    "\n",
    "\n",
    "user_data = pd.DataFrame([get_weather_input()])\n",
    "user_scaled = scaler.transform(user_data)\n",
    "\n",
    "pred_proba = model.predict_proba(user_scaled)[0][1]\n",
    "prediction = model.predict(user_scaled)\n",
    "\n",
    "print(f\"\\nRainfall Prediction: {'Yes' if prediction[0] else 'No'}\")\n",
    "print(f\"Confidence: {pred_proba:.1%}\")\n",
    "\n",
    "\n",
    "print(\"\\nModel Performance:\")\n",
    "print(classification_report(y_test, model.predict(X_test)))\n"
   ]
  },
  {
   "cell_type": "code",
   "execution_count": null,
   "id": "a5d5a1c5-f17e-4bf8-b577-d59c4d7da189",
   "metadata": {},
   "outputs": [],
   "source": []
  }
 ],
 "metadata": {
  "kernelspec": {
   "display_name": "Python 3 (ipykernel)",
   "language": "python",
   "name": "python3"
  },
  "language_info": {
   "codemirror_mode": {
    "name": "ipython",
    "version": 3
   },
   "file_extension": ".py",
   "mimetype": "text/x-python",
   "name": "python",
   "nbconvert_exporter": "python",
   "pygments_lexer": "ipython3",
   "version": "3.11.4"
  }
 },
 "nbformat": 4,
 "nbformat_minor": 5
}
