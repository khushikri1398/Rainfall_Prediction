{
 "cells": [
  {
   "cell_type": "code",
   "execution_count": 1,
   "id": "d5d74337-92c5-4178-87cf-cb4f5b3688c5",
   "metadata": {},
   "outputs": [
    {
     "name": "stdout",
     "output_type": "stream",
     "text": [
      "Original dataset size: (365, 13)\n",
      "\n",
      "Class distribution in original data:\n",
      " rainfall_label\n",
      "1    0.679452\n",
      "0    0.320548\n",
      "Name: proportion, dtype: float64\n",
      "\n",
      "Training set size: (292, 10) (292,)\n",
      "Test set size: (73, 10) (73,)\n",
      "\n",
      "Class distribution in training data:\n",
      " rainfall_label\n",
      "1    0.678082\n",
      "0    0.321918\n",
      "Name: proportion, dtype: float64\n",
      "Class distribution in test data:\n",
      " rainfall_label\n",
      "1    0.684932\n",
      "0    0.315068\n",
      "Name: proportion, dtype: float64\n",
      "\n",
      "Model loaded from file.\n"
     ]
    },
    {
     "data": {
      "image/png": "[encoded data removed]",
      "text/plain": [
       "<Figure size 640x480 with 2 Axes>"
      ]
     },
     "metadata": {},
     "output_type": "display_data"
    },
    {
     "name": "stdout",
     "output_type": "stream",
     "text": [
      "\n",
      "Enter weather parameters for prediction:\n"
     ]
    },
    {
     "name": "stdin",
     "output_type": "stream",
     "text": [
      "Atmospheric pressure (hPa):  1022\n",
      "Maximum temperature (°C):  40\n",
      "Current temperature (°C):  30\n",
      "Minimum temperature (°C):  25\n",
      "Dew point temperature (°C):  28\n",
      "Humidity (%):  80\n",
      "Cloud cover (%):  20\n",
      "Sunshine hours:  7\n",
      "Wind direction (degrees):  80\n",
      "Wind speed (km/h):  20\n"
     ]
    },
    {
     "name": "stdout",
     "output_type": "stream",
     "text": [
      "\n",
      "Rainfall Prediction: No\n",
      "Confidence: 0.0%\n",
      "\n",
      "Model Performance:\n",
      "              precision    recall  f1-score   support\n",
      "\n",
      "           0       0.96      1.00      0.98        23\n",
      "           1       1.00      0.98      0.99        50\n",
      "\n",
      "    accuracy                           0.99        73\n",
      "   macro avg       0.98      0.99      0.98        73\n",
      "weighted avg       0.99      0.99      0.99        73\n",
      "\n"
     ]
    }
   ],
   "source": [
    "import pandas as pd\n",
    "import matplotlib.pyplot as plt\n",
    "from sklearn.tree import DecisionTreeClassifier\n",
    "from sklearn.model_selection import train_test_split\n",
    "from sklearn.preprocessing import StandardScaler\n",
    "from sklearn.metrics import classification_report, ConfusionMatrixDisplay\n",
    "import joblib\n",
    "import os\n",
    "\n",
    "def get_float_input(prompt):\n",
    "    \"\"\"Safely get a float input from the user.\"\"\"\n",
    "    while True:\n",
    "        try:\n",
    "            return float(input(prompt))\n",
    "        except ValueError:\n",
    "            print(\"Invalid input. Please enter a number.\")\n",
    "\n",
    "def get_weather_input():\n",
    "    \"\"\"Collect weather parameters from user with validation\"\"\"\n",
    "    print(\"\\nEnter weather parameters for prediction:\")\n",
    "    return {\n",
    "        'pressure': get_float_input(\"Atmospheric pressure (hPa): \"),\n",
    "        'maxtemp': get_float_input(\"Maximum temperature (°C): \"),\n",
    "        'temparature': get_float_input(\"Current temperature (°C): \"),\n",
    "        'mintemp': get_float_input(\"Minimum temperature (°C): \"),\n",
    "        'dewpoint': get_float_input(\"Dew point temperature (°C): \"),\n",
    "        'humidity': get_float_input(\"Humidity (%): \"),\n",
    "        'cloud': get_float_input(\"Cloud cover (%): \"),\n",
    "        'sunshine': get_float_input(\"Sunshine hours: \"),\n",
    "        'winddirection': get_float_input(\"Wind direction (degrees): \"),\n",
    "        'windspeed': get_float_input(\"Wind speed (km/h): \")\n",
    "    }\n",
    "\n",
    "# Load and clean dataset\n",
    "df = pd.read_csv('Rainfall.csv')\n",
    "df.columns = df.columns.str.strip()\n",
    "df['rainfall_label'] = df['rainfall'].map({'yes': 1, 'no': 0})\n",
    "df = df.dropna()\n",
    "\n",
    "# Dataset size info\n",
    "print(\"Original dataset size:\", df.shape)\n",
    "\n",
    "feature_cols = ['pressure', 'maxtemp', 'temparature', 'mintemp', 'dewpoint',\n",
    "                'humidity', 'cloud', 'sunshine', 'winddirection', 'windspeed']\n",
    "X = df[feature_cols].fillna(df[feature_cols].mean(numeric_only=True))\n",
    "y = df['rainfall_label']\n",
    "\n",
    "# Check class distribution\n",
    "print(\"\\nClass distribution in original data:\\n\", y.value_counts(normalize=True))\n",
    "\n",
    "scaler = StandardScaler()\n",
    "X_scaled = scaler.fit_transform(X)\n",
    "\n",
    "# Train-test split with stratification\n",
    "X_train, X_test, y_train, y_test = train_test_split(\n",
    "    X_scaled, y, test_size=0.2, random_state=42, stratify=y\n",
    ")\n",
    "\n",
    "# Dataset size info after split\n",
    "print(\"\\nTraining set size:\", X_train.shape, y_train.shape)\n",
    "print(\"Test set size:\", X_test.shape, y_test.shape)\n",
    "print(\"\\nClass distribution in training data:\\n\", y_train.value_counts(normalize=True))\n",
    "print(\"Class distribution in test data:\\n\", y_test.value_counts(normalize=True))\n",
    "\n",
    "model_path = 'decision_tree_model.pkl'\n",
    "\n",
    "if os.path.exists(model_path):\n",
    "    model = joblib.load(model_path)\n",
    "    print(\"\\nModel loaded from file.\")\n",
    "else:\n",
    "    model = DecisionTreeClassifier(max_depth=8, min_samples_split=5, random_state=42)\n",
    "    model.fit(X_train, y_train)\n",
    "    joblib.dump(model, model_path)\n",
    "    print(\"\\nDecision Tree model trained and saved.\")\n",
    "\n",
    "# Show confusion matrix\n",
    "ConfusionMatrixDisplay.from_estimator(model, X_test, y_test)\n",
    "plt.show()\n",
    "\n",
    "# Predict user input\n",
    "user_data = pd.DataFrame([get_weather_input()])\n",
    "user_scaled = scaler.transform(user_data)\n",
    "\n",
    "pred_proba = model.predict_proba(user_scaled)[0][1]\n",
    "prediction = model.predict(user_scaled)\n",
    "\n",
    "print(f\"\\nRainfall Prediction: {'Yes' if prediction[0] else 'No'}\")\n",
    "print(f\"Confidence: {pred_proba:.1%}\")\n",
    "\n",
    "print(\"\\nModel Performance:\")\n",
    "print(classification_report(y_test, model.predict(X_test)))\n"
   ]
  },
  {
   "cell_type": "code",
   "execution_count": null,
   "id": "f2b9668a-8023-473b-8320-665500e0e630",
   "metadata": {},
   "outputs": [],
   "source": []
  },
  {
   "cell_type": "code",
   "execution_count": null,
   "id": "f421696d-b3b5-401d-89cc-f3922ea664d6",
   "metadata": {},
   "outputs": [],
   "source": []
  }
 ],
 "metadata": {
  "kernelspec": {
   "display_name": "Python 3 (ipykernel)",
   "language": "python",
   "name": "python3"
  },
  "language_info": {
   "codemirror_mode": {
    "name": "ipython",
    "version": 3
   },
   "file_extension": ".py",
   "mimetype": "text/x-python",
   "name": "python",
   "nbconvert_exporter": "python",
   "pygments_lexer": "ipython3",
   "version": "3.13.1"
  }
 },
 "nbformat": 4,
 "nbformat_minor": 5
}
