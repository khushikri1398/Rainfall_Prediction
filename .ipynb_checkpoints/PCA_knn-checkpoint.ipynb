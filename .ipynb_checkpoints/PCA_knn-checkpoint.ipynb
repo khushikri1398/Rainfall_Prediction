{
 "cells": [
  {
   "cell_type": "code",
   "execution_count": 2,
   "id": "9200e12c-fe81-469e-8db9-6af866272f2f",
   "metadata": {},
   "outputs": [
    {
     "name": "stdout",
     "output_type": "stream",
     "text": [
      "\n",
      "Original features: 10\n",
      "PCA-reduced features: 5\n",
      "KNN model trained and saved.\n"
     ]
    },
    {
     "data": {
      "image/png": "[encoded data removed]",
      "text/plain": [
       "<Figure size 640x480 with 2 Axes>"
      ]
     },
     "metadata": {},
     "output_type": "display_data"
    },
    {
     "name": "stdout",
     "output_type": "stream",
     "text": [
      "\n",
      "Enter weather parameters for prediction:\n"
     ]
    },
    {
     "name": "stdin",
     "output_type": "stream",
     "text": [
      "Atmospheric pressure (hPa):  1022\n",
      "Maximum temperature (°C):  19\n",
      "Current temperature (°C):  18\n",
      "Minimum temperature (°C):  17\n",
      "Dew point temperature (°C):  10\n",
      "Humidity (%):  20\n",
      "Cloud cover (%):  10\n",
      "Sunshine hours:  8\n",
      "Wind direction (degrees):  40\n",
      "Wind speed (km/h):  19\n"
     ]
    },
    {
     "name": "stdout",
     "output_type": "stream",
     "text": [
      "\n",
      "Rainfall Prediction: No\n",
      "Confidence: 0.0%\n",
      "\n",
      "Model Performance:\n",
      "              precision    recall  f1-score   support\n",
      "\n",
      "           0       0.68      0.65      0.67        23\n",
      "           1       0.84      0.86      0.85        50\n",
      "\n",
      "    accuracy                           0.79        73\n",
      "   macro avg       0.76      0.76      0.76        73\n",
      "weighted avg       0.79      0.79      0.79        73\n",
      "\n"
     ]
    }
   ],
   "source": [
    "import pandas as pd\n",
    "import matplotlib.pyplot as plt\n",
    "from sklearn.neighbors import KNeighborsClassifier\n",
    "from sklearn.model_selection import train_test_split\n",
    "from sklearn.preprocessing import StandardScaler\n",
    "from sklearn.decomposition import PCA\n",
    "from sklearn.metrics import classification_report, ConfusionMatrixDisplay\n",
    "import joblib\n",
    "import os\n",
    "\n",
    "def get_float_input(prompt):\n",
    "    while True:\n",
    "        try:\n",
    "            return float(input(prompt))\n",
    "        except ValueError:\n",
    "            print(\"Invalid input. Please enter a number.\")\n",
    "\n",
    "def get_weather_input():\n",
    "    print(\"\\nEnter weather parameters for prediction:\")\n",
    "    return {\n",
    "        'pressure': get_float_input(\"Atmospheric pressure (hPa): \"),\n",
    "        'maxtemp': get_float_input(\"Maximum temperature (°C): \"),\n",
    "        'temparature': get_float_input(\"Current temperature (°C): \"),\n",
    "        'mintemp': get_float_input(\"Minimum temperature (°C): \"),\n",
    "        'dewpoint': get_float_input(\"Dew point temperature (°C): \"),\n",
    "        'humidity': get_float_input(\"Humidity (%): \"),\n",
    "        'cloud': get_float_input(\"Cloud cover (%): \"),\n",
    "        'sunshine': get_float_input(\"Sunshine hours: \"),\n",
    "        'winddirection': get_float_input(\"Wind direction (degrees): \"),\n",
    "        'windspeed': get_float_input(\"Wind speed (km/h): \")\n",
    "    }\n",
    "\n",
    "# Load and preprocess dataset\n",
    "df = pd.read_csv('Rainfall.csv')\n",
    "df.columns = df.columns.str.strip()\n",
    "df['rainfall_label'] = df['rainfall'].map({'yes': 1, 'no': 0})\n",
    "df = df.dropna()\n",
    "\n",
    "feature_cols = ['pressure', 'maxtemp', 'temparature', 'mintemp', 'dewpoint',\n",
    "                'humidity', 'cloud', 'sunshine', 'winddirection', 'windspeed']\n",
    "X = df[feature_cols].fillna(df[feature_cols].mean(numeric_only=True))\n",
    "y = df['rainfall_label']\n",
    "\n",
    "# Scale and apply PCA\n",
    "scaler = StandardScaler()\n",
    "X_scaled = scaler.fit_transform(X)\n",
    "\n",
    "pca = PCA(n_components=0.95)\n",
    "X_pca = pca.fit_transform(X_scaled)\n",
    "\n",
    "print(f\"\\nOriginal features: {X_scaled.shape[1]}\")\n",
    "print(f\"PCA-reduced features: {X_pca.shape[1]}\")\n",
    "\n",
    "# Stratified train-test split\n",
    "X_train, X_test, y_train, y_test = train_test_split(\n",
    "    X_pca, y, test_size=0.2, random_state=42, stratify=y\n",
    ")\n",
    "\n",
    "# Model training or loading\n",
    "model_path = 'knn_pca_model.pkl'\n",
    "\n",
    "if os.path.exists(model_path):\n",
    "    model = joblib.load(model_path)\n",
    "    print(\"Model loaded from file.\")\n",
    "else:\n",
    "    model = KNeighborsClassifier(n_neighbors=5)\n",
    "    model.fit(X_train, y_train)\n",
    "    joblib.dump(model, model_path)\n",
    "    print(\"KNN model trained and saved.\")\n",
    "\n",
    "# Confusion matrix\n",
    "ConfusionMatrixDisplay.from_estimator(model, X_test, y_test)\n",
    "plt.show()\n",
    "\n",
    "# Predict on user input\n",
    "user_data = pd.DataFrame([get_weather_input()])\n",
    "user_scaled = scaler.transform(user_data)\n",
    "user_pca = pca.transform(user_scaled)\n",
    "\n",
    "pred_proba = model.predict_proba(user_pca)[0][1]\n",
    "prediction = model.predict(user_pca)\n",
    "\n",
    "print(f\"\\nRainfall Prediction: {'Yes' if prediction[0] else 'No'}\")\n",
    "print(f\"Confidence: {pred_proba:.1%}\")\n",
    "\n",
    "# Model performance\n",
    "print(\"\\nModel Performance:\")\n",
    "print(classification_report(y_test, model.predict(X_test)))\n"
   ]
  },
  {
   "cell_type": "code",
   "execution_count": null,
   "id": "1ee66562-a4d4-4ebf-81d9-16f1e7b02816",
   "metadata": {},
   "outputs": [],
   "source": []
  }
 ],
 "metadata": {
  "kernelspec": {
   "display_name": "Python 3 (ipykernel)",
   "language": "python",
   "name": "python3"
  },
  "language_info": {
   "codemirror_mode": {
    "name": "ipython",
    "version": 3
   },
   "file_extension": ".py",
   "mimetype": "text/x-python",
   "name": "python",
   "nbconvert_exporter": "python",
   "pygments_lexer": "ipython3",
   "version": "3.13.1"
  }
 },
 "nbformat": 4,
 "nbformat_minor": 5
}
