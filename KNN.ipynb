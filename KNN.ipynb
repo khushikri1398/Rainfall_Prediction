{
 "cells": [
  {
   "cell_type": "code",
   "execution_count": null,
   "id": "9740724d-856b-459b-9a47-b688acb17022",
   "metadata": {},
   "outputs": [
    {
     "name": "stdout",
     "output_type": "stream",
     "text": [
      "KNN model loaded from file.\n"
     ]
    },
    {
     "data": {
      "image/png": "[encoded data removed]",
      "text/plain": [
       "<Figure size 640x480 with 2 Axes>"
      ]
     },
     "metadata": {},
     "output_type": "display_data"
    },
    {
     "name": "stdout",
     "output_type": "stream",
     "text": [
      "\n",
      "Enter weather parameters for prediction:\n"
     ]
    }
   ],
   "source": [
    "import pandas as pd\n",
    "import matplotlib.pyplot as plt\n",
    "from sklearn.neighbors import KNeighborsClassifier\n",
    "from sklearn.model_selection import train_test_split\n",
    "from sklearn.preprocessing import StandardScaler\n",
    "from sklearn.metrics import classification_report, ConfusionMatrixDisplay\n",
    "import joblib\n",
    "import os\n",
    "\n",
    "def get_float_input(prompt):\n",
    "    \n",
    "    while True:\n",
    "        try:\n",
    "            return float(input(prompt))\n",
    "        except ValueError:\n",
    "            print(\"Invalid input. Please enter a number.\")\n",
    "\n",
    "def get_weather_input():\n",
    "    \n",
    "    print(\"\\nEnter weather parameters for prediction:\")\n",
    "    return {\n",
    "        'pressure': get_float_input(\"Atmospheric pressure (hPa): \"),\n",
    "        'maxtemp': get_float_input(\"Maximum temperature (°C): \"),\n",
    "        'temparature': get_float_input(\"Current temperature (°C): \"),\n",
    "        'mintemp': get_float_input(\"Minimum temperature (°C): \"),\n",
    "        'dewpoint': get_float_input(\"Dew point temperature (°C): \"),\n",
    "        'humidity': get_float_input(\"Humidity (%): \"),\n",
    "        'cloud': get_float_input(\"Cloud cover (%): \"),\n",
    "        'sunshine': get_float_input(\"Sunshine hours: \"),\n",
    "        'winddirection': get_float_input(\"Wind direction (degrees): \"),\n",
    "        'windspeed': get_float_input(\"Wind speed (km/h): \")\n",
    "    }\n",
    "\n",
    "df = pd.read_csv('Rainfall.csv')\n",
    "df.columns = df.columns.str.strip()\n",
    "df['rainfall'] = df['rainfall'].astype(str).str.lower().str.strip()\n",
    "df = df[df['rainfall'].isin(['yes', 'no'])]\n",
    "df['rainfall_label'] = df['rainfall'].map({'yes': 1, 'no': 0})\n",
    "\n",
    "\n",
    "feature_cols = ['pressure', 'maxtemp', 'temparature', 'mintemp', 'dewpoint',\n",
    "                'humidity', 'cloud', 'sunshine', 'winddirection', 'windspeed']\n",
    "df[feature_cols] = df[feature_cols].apply(pd.to_numeric, errors='coerce')\n",
    "df = df.dropna(subset=feature_cols)\n",
    "\n",
    "X = df[feature_cols]\n",
    "y = df['rainfall_label']\n",
    "\n",
    "\n",
    "scaler = StandardScaler()\n",
    "X_scaled = scaler.fit_transform(X)\n",
    "\n",
    "\n",
    "X_train, X_test, y_train, y_test = train_test_split(\n",
    "    X_scaled, y, test_size=0.2, random_state=42, stratify=y\n",
    ")\n",
    "\n",
    "\n",
    "model_path = 'knn_model.pkl'\n",
    "if os.path.exists(model_path):\n",
    "    model = joblib.load(model_path)\n",
    "    print(\"KNN model loaded from file.\")\n",
    "else:\n",
    "    model = KNeighborsClassifier(n_neighbors=5)\n",
    "    model.fit(X_train, y_train)\n",
    "    joblib.dump(model, model_path)\n",
    "    print(\"KNN model trained and saved.\")\n",
    "    \n",
    "ConfusionMatrixDisplay.from_estimator(model, X_test, y_test)\n",
    "plt.show()\n",
    "\n",
    "\n",
    "user_data = pd.DataFrame([get_weather_input()])\n",
    "user_scaled = scaler.transform(user_data)\n",
    "\n",
    "pred_proba = model.predict_proba(user_scaled)[0][1]\n",
    "prediction = model.predict(user_scaled)\n",
    "\n",
    "print(f\"\\nRainfall Prediction: {'Yes' if prediction[0] else 'No'}\")\n",
    "print(f\"Confidence: {pred_proba:.1%}\")\n",
    "\n",
    "\n",
    "print(\"\\nModel Performance:\")\n",
    "print(classification_report(y_test, model.predict(X_test)))\n"
   ]
  },
  {
   "cell_type": "code",
   "execution_count": null,
   "id": "e5283ed9-3b5f-4e57-b587-3aaec1472f54",
   "metadata": {},
   "outputs": [],
   "source": []
  }
 ],
 "metadata": {
  "kernelspec": {
   "display_name": "Python 3 (ipykernel)",
   "language": "python",
   "name": "python3"
  },
  "language_info": {
   "codemirror_mode": {
    "name": "ipython",
    "version": 3
   },
   "file_extension": ".py",
   "mimetype": "text/x-python",
   "name": "python",
   "nbconvert_exporter": "python",
   "pygments_lexer": "ipython3",
   "version": "3.13.1"
  }
 },
 "nbformat": 4,
 "nbformat_minor": 5
}
